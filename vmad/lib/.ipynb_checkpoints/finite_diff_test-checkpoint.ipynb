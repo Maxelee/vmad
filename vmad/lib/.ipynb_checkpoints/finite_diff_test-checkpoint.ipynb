{
 "cells": [
  {
   "cell_type": "code",
   "execution_count": 3,
   "metadata": {
    "ExecuteTime": {
     "end_time": "2020-03-09T17:46:25.136046Z",
     "start_time": "2020-03-09T17:46:25.132783Z"
    }
   },
   "outputs": [],
   "source": [
    "from vmad import operator, autooperator\n",
    "# from utils import finite_difference\n",
    "import numpy as np"
   ]
  },
  {
   "cell_type": "markdown",
   "metadata": {},
   "source": [
    "\\begin{equation}\n",
    "\\begin{split}\n",
    "    g = \\dfrac{f(x+\\epsilon) - f(x)}{\\epsilon}\\\\\n",
    "\\end{split}\n",
    "\\end{equation}"
   ]
  },
  {
   "cell_type": "code",
   "execution_count": 130,
   "metadata": {
    "ExecuteTime": {
     "end_time": "2020-03-09T18:30:39.515402Z",
     "start_time": "2020-03-09T18:30:39.506170Z"
    }
   },
   "outputs": [],
   "source": [
    "import numpy as np\n",
    "from vmad import operator\n",
    "\n",
    "def finite_diff(param, func, epsilon, mode='forward'):\n",
    "    \"\"\"\n",
    "    Find the finite differencing of a  given function based off of an input parameter\n",
    "    Params:\n",
    "    __________________\n",
    "    param:   parameter to difference with respect to\n",
    "    func:    function for finite difference\n",
    "    epsilon: amount of forward stepping in differencing\n",
    "    args:    further arguments, if any, for the function\n",
    "\n",
    "    Returns:\n",
    "    _________________\n",
    "    forward differencing solution to function with respect to input parameter\n",
    "\n",
    "    \"\"\"\n",
    "    if mode=='forward':\n",
    "        k1, k2, k3=1, 0, 1\n",
    "\n",
    "    elif mode=='backward':\n",
    "        k1, k2, k3=-1, 0, -1\n",
    "\n",
    "    elif mode=='central':\n",
    "        k1, k2, k3=1/2, -1/2, 1\n",
    "\n",
    "    \n",
    "    return k3*(func(param+k1*epsilon) - func(param+k2*epsilon))/epsilon\n",
    "\n",
    "\n",
    "\n",
    "@operator\n",
    "class finite_difference:\n",
    "    ain = {'param': '*'}\n",
    "    aout = {'diff':'*'}\n",
    "\n",
    "    def apl(node, param, func, epsilon, mode='central'):\n",
    "        f = func(param)\n",
    "        return dict(diff=f)\n",
    "\n",
    "    def vjp(node, _diff, param, func, epsilon, mode='central'):\n",
    "        delta = finite_diff(param, lambda x: func(x), epsilon, mode=mode)\n",
    "        return dict(_param=np.dot(delta, _diff))\n",
    "\n",
    "    def jvp(node, param_, param, func, epsilon, mode='central'):\n",
    "        delta = finite_diff(param, lambda x: func(x), epsilon, mode=mode)\n",
    "        return dict(diff_=np.dot(delta, param_))\n"
   ]
  },
  {
   "cell_type": "code",
   "execution_count": 131,
   "metadata": {
    "ExecuteTime": {
     "end_time": "2020-03-09T18:30:40.233867Z",
     "start_time": "2020-03-09T18:30:40.228690Z"
    }
   },
   "outputs": [],
   "source": [
    "@autooperator('a->b')\n",
    "def test(a,epsilon, j, k, mode='central'):\n",
    "    return finite_difference(a, lambda x, j=j, k=k: test_func(x, j, k),  epsilon, mode=mode)\n",
    "\n",
    "def test_func(a, j,k):\n",
    "    return a**3+j*a**2+k*a"
   ]
  },
  {
   "cell_type": "code",
   "execution_count": 132,
   "metadata": {
    "ExecuteTime": {
     "end_time": "2020-03-09T18:30:41.094640Z",
     "start_time": "2020-03-09T18:30:41.081212Z"
    }
   },
   "outputs": [
    {
     "name": "stdout",
     "output_type": "stream",
     "text": [
      "apl=4: True, vjp=7: True\n"
     ]
    }
   ],
   "source": [
    "epsilon = 1e-5\n",
    "j,k = 1,2\n",
    "init = dict(a=1)\n",
    "v = dict(_b=1)\n",
    "\n",
    "apl, vjp = test.build(func=test_func, epsilon=epsilon, j=j, k=k, mode='central').compute_with_vjp(init=dict(a=1), v=v)\n",
    "print('apl=4: {}, vjp=7: {}'.format(apl[0]==4, int(vjp[0])==7))"
   ]
  },
  {
   "cell_type": "code",
   "execution_count": null,
   "metadata": {},
   "outputs": [],
   "source": []
  }
 ],
 "metadata": {
  "kernelspec": {
   "display_name": "Python 3",
   "language": "python",
   "name": "python3"
  },
  "language_info": {
   "codemirror_mode": {
    "name": "ipython",
    "version": 3
   },
   "file_extension": ".py",
   "mimetype": "text/x-python",
   "name": "python",
   "nbconvert_exporter": "python",
   "pygments_lexer": "ipython3",
   "version": "3.7.4"
  }
 },
 "nbformat": 4,
 "nbformat_minor": 2
}
